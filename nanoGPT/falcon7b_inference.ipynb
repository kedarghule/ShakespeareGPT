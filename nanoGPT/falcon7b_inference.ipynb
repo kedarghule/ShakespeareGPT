{
 "cells": [
  {
   "cell_type": "code",
   "execution_count": 1,
   "id": "e82c9530-b274-4166-98aa-17dec47a1921",
   "metadata": {},
   "outputs": [
    {
     "name": "stderr",
     "output_type": "stream",
     "text": [
      "/home/ghule.k/.conda/envs/llm_env/lib/python3.9/site-packages/tqdm/auto.py:21: TqdmWarning: IProgress not found. Please update jupyter and ipywidgets. See https://ipywidgets.readthedocs.io/en/stable/user_install.html\n",
      "  from .autonotebook import tqdm as notebook_tqdm\n",
      "Explicitly passing a `revision` is encouraged when loading a configuration with custom code to ensure no malicious code has been contributed in a newer revision.\n",
      "Explicitly passing a `revision` is encouraged when loading a configuration with custom code to ensure no malicious code has been contributed in a newer revision.\n",
      "Explicitly passing a `revision` is encouraged when loading a model with custom code to ensure no malicious code has been contributed in a newer revision.\n",
      "Loading checkpoint shards: 100%|██████████| 2/2 [00:07<00:00,  3.91s/it]\n",
      "The model 'RWForCausalLM' is not supported for text-generation. Supported models are ['BartForCausalLM', 'BertLMHeadModel', 'BertGenerationDecoder', 'BigBirdForCausalLM', 'BigBirdPegasusForCausalLM', 'BioGptForCausalLM', 'BlenderbotForCausalLM', 'BlenderbotSmallForCausalLM', 'BloomForCausalLM', 'CamembertForCausalLM', 'CodeGenForCausalLM', 'CpmAntForCausalLM', 'CTRLLMHeadModel', 'Data2VecTextForCausalLM', 'ElectraForCausalLM', 'ErnieForCausalLM', 'GitForCausalLM', 'GPT2LMHeadModel', 'GPT2LMHeadModel', 'GPTBigCodeForCausalLM', 'GPTNeoForCausalLM', 'GPTNeoXForCausalLM', 'GPTNeoXJapaneseForCausalLM', 'GPTJForCausalLM', 'LlamaForCausalLM', 'MarianForCausalLM', 'MBartForCausalLM', 'MegaForCausalLM', 'MegatronBertForCausalLM', 'MvpForCausalLM', 'OpenAIGPTLMHeadModel', 'OPTForCausalLM', 'PegasusForCausalLM', 'PLBartForCausalLM', 'ProphetNetForCausalLM', 'QDQBertLMHeadModel', 'ReformerModelWithLMHead', 'RemBertForCausalLM', 'RobertaForCausalLM', 'RobertaPreLayerNormForCausalLM', 'RoCBertForCausalLM', 'RoFormerForCausalLM', 'Speech2Text2ForCausalLM', 'TransfoXLLMHeadModel', 'TrOCRForCausalLM', 'XGLMForCausalLM', 'XLMWithLMHeadModel', 'XLMProphetNetForCausalLM', 'XLMRobertaForCausalLM', 'XLMRobertaXLForCausalLM', 'XLNetLMHeadModel', 'XmodForCausalLM'].\n"
     ]
    }
   ],
   "source": [
    "from transformers import AutoTokenizer, AutoModelForCausalLM\n",
    "import transformers\n",
    "import torch\n",
    "\n",
    "model = \"tiiuae/falcon-7b-instruct\"\n",
    "\n",
    "tokenizer = AutoTokenizer.from_pretrained(model)\n",
    "pipeline = transformers.pipeline(\n",
    "    \"text-generation\",\n",
    "    model=model,\n",
    "    tokenizer=tokenizer,\n",
    "    torch_dtype=torch.bfloat16,\n",
    "    trust_remote_code=True,\n",
    "    device_map=\"auto\",\n",
    ")\n"
   ]
  },
  {
   "cell_type": "code",
   "execution_count": 7,
   "id": "643a6410-55a9-487f-9d6c-3df45e5084ce",
   "metadata": {},
   "outputs": [
    {
     "name": "stderr",
     "output_type": "stream",
     "text": [
      "Setting `pad_token_id` to `eos_token_id`:11 for open-end generation.\n"
     ]
    },
    {
     "name": "stdout",
     "output_type": "stream",
     "text": [
      "Result: You are a Shakespeare Word Generator. Write dialogues like Shakespeare's famous works.\n",
      "Act I\n",
      "SCENE 1\n",
      "\n",
      "Two Gentlemen of Veronese:\n",
      "Gentlemen, what is it that we have met?\n",
      "For you have been some hours in thought.\n",
      "\n",
      "Scene 2\n",
      "\n",
      "Two Gentlemen of Veronese:\n",
      "Methinks I know you from some far place.\n",
      "For I have been familiar with your countenance.\n",
      "\n",
      "SCENE 3\n",
      "\n",
      "Two Gentlemen of Veronese:\n",
      "Well met, I see you are of a fine mind.\n",
      "For you have a most excellent wit.\n",
      "\n",
      "Act II\n",
      "SCENE 1\n",
      "\n",
      "Two Gentlemen of Veronese:\n",
      "The sun doth shine upon you, my fair one,\n",
      "Your grace is so beaming that the world must gaze upon you.\n",
      "\n",
      "Scene 2\n",
      "\n",
      "Two Gentlemen of Veronese:\n",
      "You, gentle lady, are a sight for\n"
     ]
    }
   ],
   "source": [
    "sequences = pipeline(\n",
    "   \"You are a Shakespeare Word Generator. Write dialogues like Shakespeare\",\n",
    "    max_length=200,\n",
    "    do_sample=True,\n",
    "    top_k=10,\n",
    "    num_return_sequences=1,\n",
    "    eos_token_id=tokenizer.eos_token_id,\n",
    ")\n",
    "for seq in sequences:\n",
    "    print(f\"Result: {seq['generated_text']}\")"
   ]
  },
  {
   "cell_type": "code",
   "execution_count": 9,
   "id": "e34d4cde-d9ed-495f-aa9b-0a56c35a7c01",
   "metadata": {},
   "outputs": [
    {
     "name": "stderr",
     "output_type": "stream",
     "text": [
      "Setting `pad_token_id` to `eos_token_id`:11 for open-end generation.\n"
     ]
    },
    {
     "name": "stdout",
     "output_type": "stream",
     "text": [
      "Result: You are a Shakespeare Word Generator. Write long dialogues between 3 people (Jacob, Jacques and Olivia) like Shakespeare about love.\n",
      "Jacques: 'Olivia, my beloved, how I yearn to be with thee.'\n",
      "\n",
      "Olivia: 'Alas, my heart, I must part from thee. My beloved, I long to be in thy embrace.'\n",
      "\n",
      "Jacob: 'Olivia, I swear an oath to thee, I will find a way to make the stars align.'\n",
      "\n",
      "Olivia: 'My heart, I long for thy words like the ocean longs for the moon.'\n",
      "\n",
      "Jacques: 'And when I do see thee again, I shall be the luckiest man in the world.'\n",
      "\n",
      "Olivia: 'My heart, I am forever in your debt. My love, be blessed.'\n"
     ]
    }
   ],
   "source": [
    "sequences = pipeline(\n",
    "   \"You are a Shakespeare Word Generator. Write long dialogues between 3 people (Jacob, Jacques and Olivia) like Shakespeare about love.\",\n",
    "    max_length=200,\n",
    "    do_sample=True,\n",
    "    top_k=10,\n",
    "    num_return_sequences=1,\n",
    "    eos_token_id=tokenizer.eos_token_id,\n",
    ")\n",
    "for seq in sequences:\n",
    "    print(f\"Result: {seq['generated_text']}\")"
   ]
  },
  {
   "cell_type": "code",
   "execution_count": null,
   "id": "22a9dd66-83bf-4c8e-99d0-02c615f375e9",
   "metadata": {},
   "outputs": [],
   "source": []
  }
 ],
 "metadata": {
  "kernelspec": {
   "display_name": "llm_env",
   "language": "python",
   "name": "llm_env"
  },
  "language_info": {
   "codemirror_mode": {
    "name": "ipython",
    "version": 3
   },
   "file_extension": ".py",
   "mimetype": "text/x-python",
   "name": "python",
   "nbconvert_exporter": "python",
   "pygments_lexer": "ipython3",
   "version": "3.9.17"
  }
 },
 "nbformat": 4,
 "nbformat_minor": 5
}
