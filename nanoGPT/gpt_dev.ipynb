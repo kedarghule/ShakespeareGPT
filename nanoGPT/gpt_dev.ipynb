{
 "cells": [
  {
   "cell_type": "code",
   "execution_count": 1,
   "id": "af3c9991-262a-4f1e-88f5-16c4777aae3c",
   "metadata": {},
   "outputs": [],
   "source": [
    "# def download_data():\n",
    "#     !wget https://raw.githubusercontent.com/karpathy/char-rnn/master/data/tinyshakespeare/input.txt"
   ]
  },
  {
   "cell_type": "code",
   "execution_count": 2,
   "id": "6ce5319d-de86-4573-baf2-fa605a88d725",
   "metadata": {},
   "outputs": [],
   "source": [
    "import torch\n",
    "import torch.nn as nn\n",
    "from torch.nn import functional as F\n",
    "torch.manual_seed(1337)\n",
    "import numpy as np"
   ]
  },
  {
   "cell_type": "code",
   "execution_count": 3,
   "id": "98e713cd-b8e5-429f-8537-9fe30795b3b3",
   "metadata": {},
   "outputs": [],
   "source": [
    "def get_text(path):\n",
    "    with open(path, 'r', encoding='utf-8') as f:\n",
    "        text = f.read()\n",
    "    return text"
   ]
  },
  {
   "cell_type": "markdown",
   "id": "d10726fd-c9be-41b4-80e3-56b03d41ebe1",
   "metadata": {},
   "source": [
    "stored data moved to data folder using terminal"
   ]
  },
  {
   "cell_type": "code",
   "execution_count": 4,
   "id": "fe72c2cb-2b43-488d-a8c5-6f0d5766f8d7",
   "metadata": {},
   "outputs": [],
   "source": [
    "def one_time_preprocess(path):\n",
    "    # read it in to inspect it\n",
    "    with open(path, 'r', encoding='utf-8') as f:\n",
    "        text = f.read()\n",
    "    print(\"length of dataset in characters: \", len(text))\n",
    "    # let's look at the first 1000 characters\n",
    "    print(text[:1000])\n",
    "    print('here are all the unique characters that occur in this text')\n",
    "    chars = sorted(list(set(text)))\n",
    "    vocab_size = len(chars)\n",
    "    print(''.join(chars))\n",
    "    print(\"number of unique characters {}\".format(vocab_size))\n",
    "    return chars, vocab_size"
   ]
  },
  {
   "cell_type": "code",
   "execution_count": 5,
   "id": "224e3cfe-6ad2-495b-915e-bc684e54c1b4",
   "metadata": {},
   "outputs": [
    {
     "name": "stdout",
     "output_type": "stream",
     "text": [
      "length of dataset in characters:  1115394\n",
      "First Citizen:\n",
      "Before we proceed any further, hear me speak.\n",
      "\n",
      "All:\n",
      "Speak, speak.\n",
      "\n",
      "First Citizen:\n",
      "You are all resolved rather to die than to famish?\n",
      "\n",
      "All:\n",
      "Resolved. resolved.\n",
      "\n",
      "First Citizen:\n",
      "First, you know Caius Marcius is chief enemy to the people.\n",
      "\n",
      "All:\n",
      "We know't, we know't.\n",
      "\n",
      "First Citizen:\n",
      "Let us kill him, and we'll have corn at our own price.\n",
      "Is't a verdict?\n",
      "\n",
      "All:\n",
      "No more talking on't; let it be done: away, away!\n",
      "\n",
      "Second Citizen:\n",
      "One word, good citizens.\n",
      "\n",
      "First Citizen:\n",
      "We are accounted poor citizens, the patricians good.\n",
      "What authority surfeits on would relieve us: if they\n",
      "would yield us but the superfluity, while it were\n",
      "wholesome, we might guess they relieved us humanely;\n",
      "but they think we are too dear: the leanness that\n",
      "afflicts us, the object of our misery, is as an\n",
      "inventory to particularise their abundance; our\n",
      "sufferance is a gain to them Let us revenge this with\n",
      "our pikes, ere we become rakes: for the gods know I\n",
      "speak this in hunger for bread, not in thirst for revenge.\n",
      "\n",
      "\n",
      "here are all the unique characters that occur in this text\n",
      "\n",
      " !$&',-.3:;?ABCDEFGHIJKLMNOPQRSTUVWXYZabcdefghijklmnopqrstuvwxyz\n",
      "number of unique characters 65\n"
     ]
    }
   ],
   "source": [
    "chars, vocab_size = one_time_preprocess('data/input.txt')"
   ]
  },
  {
   "cell_type": "markdown",
   "id": "acb30863-72d9-439a-9d11-b5b4f98aa1a5",
   "metadata": {},
   "source": [
    "***newline and space not visible in the list printed above"
   ]
  },
  {
   "cell_type": "code",
   "execution_count": 6,
   "id": "e512a711-3458-411c-bf25-44f30a1607e8",
   "metadata": {},
   "outputs": [],
   "source": [
    "def create_maps_and_fxns(chars):\n",
    "    # create a mapping from characters to integers\n",
    "    stoi = { ch:i for i,ch in enumerate(chars) }\n",
    "    itos = { i:ch for i,ch in enumerate(chars) }\n",
    "    encode = lambda s: [stoi[c] for c in s] # encoder: take a string, output a list of integers\n",
    "    decode = lambda l: ''.join([itos[i] for i in l]) # decoder: take a list of integers, output a string\n",
    "    return encode, decode, stoi, itos"
   ]
  },
  {
   "cell_type": "code",
   "execution_count": 7,
   "id": "7842da26-fde2-4ece-8e06-b981cfe665c0",
   "metadata": {},
   "outputs": [],
   "source": [
    "encode, decode, stoi, itos = create_maps_and_fxns(chars)"
   ]
  },
  {
   "cell_type": "code",
   "execution_count": 8,
   "id": "5d449b16-998d-48c4-a1c3-702b03b784dd",
   "metadata": {},
   "outputs": [],
   "source": [
    "def test_encode_decode(text = \"hii there\"):\n",
    "    print(encode(text))\n",
    "    print(decode(encode(text)))"
   ]
  },
  {
   "cell_type": "code",
   "execution_count": 9,
   "id": "d34acdf0-acf7-4395-95f8-30cbde83cd57",
   "metadata": {},
   "outputs": [
    {
     "name": "stdout",
     "output_type": "stream",
     "text": [
      "[46, 47, 47, 1, 58, 46, 43, 56, 43]\n",
      "hii there\n"
     ]
    }
   ],
   "source": [
    "test_encode_decode()"
   ]
  },
  {
   "cell_type": "code",
   "execution_count": 10,
   "id": "d85f1f73-604f-4a88-a37c-94bc04ed0f6a",
   "metadata": {},
   "outputs": [],
   "source": [
    "def get_tensor_data(text):\n",
    "    # let's now encode the entire text dataset and store it into a torch.Tensor\n",
    "    data = torch.tensor(encode(text), dtype=torch.long)\n",
    "    print(data.shape, data.dtype)\n",
    "    #print(data[:1000]) # the 1000 characters we looked at earier will to the GPT look like this\n",
    "    return data"
   ]
  },
  {
   "cell_type": "code",
   "execution_count": 11,
   "id": "a67dd2a9-0df7-4695-b444-fa0724e45a05",
   "metadata": {},
   "outputs": [
    {
     "name": "stdout",
     "output_type": "stream",
     "text": [
      "torch.Size([1115394]) torch.int64\n"
     ]
    }
   ],
   "source": [
    "data = get_tensor_data(get_text('data/input.txt'))"
   ]
  },
  {
   "cell_type": "code",
   "execution_count": 12,
   "id": "df9f14d8-e9c9-4b6e-a430-fc95b6719432",
   "metadata": {},
   "outputs": [],
   "source": [
    "def get_train_test(data):\n",
    "    # Let's now split up the data into train and validation sets\n",
    "    n = int(0.9*len(data)) # first 90% will be train, rest val\n",
    "    train_data = data[:n]\n",
    "    val_data = data[n:]\n",
    "    return train_data, val_data"
   ]
  },
  {
   "cell_type": "code",
   "execution_count": 13,
   "id": "f53ace56-53c4-4fd7-a345-3a2aae28d5db",
   "metadata": {},
   "outputs": [],
   "source": [
    "train_data, val_data = get_train_test(data)"
   ]
  },
  {
   "cell_type": "code",
   "execution_count": 14,
   "id": "849b27f6-e855-41cb-b6d7-510f4538adfc",
   "metadata": {},
   "outputs": [],
   "source": [
    "def get_batches(train_data, val_data):\n",
    "    torch.manual_seed(1337)\n",
    "    batch_size = 4 # how many independent sequences will we process in parallel?\n",
    "    block_size = 8 # what is the maximum context length for predictions?\n",
    "\n",
    "    def get_batch(split):\n",
    "        # generate a small batch of data of inputs x and targets y\n",
    "        data = train_data if split == 'train' else val_data\n",
    "        ix = torch.randint(len(data) - block_size, (batch_size,))\n",
    "        x = torch.stack([data[i:i+block_size] for i in ix])\n",
    "        y = torch.stack([data[i+1:i+block_size+1] for i in ix])\n",
    "        return x, y\n",
    "\n",
    "    xb, yb = get_batch('train')\n",
    "    print('inputs:')\n",
    "    print(xb.shape)\n",
    "    print(xb)\n",
    "    print('targets:')\n",
    "    print(yb.shape)\n",
    "    print(yb)\n",
    "    return xb, yb"
   ]
  },
  {
   "cell_type": "code",
   "execution_count": 15,
   "id": "e95d891d-0d48-47a0-a06c-7add5824b9f1",
   "metadata": {},
   "outputs": [
    {
     "name": "stdout",
     "output_type": "stream",
     "text": [
      "inputs:\n",
      "torch.Size([4, 8])\n",
      "tensor([[24, 43, 58,  5, 57,  1, 46, 43],\n",
      "        [44, 53, 56,  1, 58, 46, 39, 58],\n",
      "        [52, 58,  1, 58, 46, 39, 58,  1],\n",
      "        [25, 17, 27, 10,  0, 21,  1, 54]])\n",
      "targets:\n",
      "torch.Size([4, 8])\n",
      "tensor([[43, 58,  5, 57,  1, 46, 43, 39],\n",
      "        [53, 56,  1, 58, 46, 39, 58,  1],\n",
      "        [58,  1, 58, 46, 39, 58,  1, 46],\n",
      "        [17, 27, 10,  0, 21,  1, 54, 39]])\n"
     ]
    }
   ],
   "source": [
    "xb, yb = get_batches(train_data, val_data)"
   ]
  },
  {
   "cell_type": "code",
   "execution_count": 16,
   "id": "bbf245c5-953e-4328-a789-a605c39b5633",
   "metadata": {},
   "outputs": [],
   "source": [
    "def visualize_batch(batch_size, block_size, xb, yb):\n",
    "    for b in range(batch_size): # batch dimension\n",
    "        for t in range(block_size): # time dimension\n",
    "            context = xb[b, :t+1]\n",
    "            target = yb[b,t]\n",
    "            print(f\"when input is {context.tolist()} the target: {target}\")"
   ]
  },
  {
   "cell_type": "code",
   "execution_count": 17,
   "id": "06b7a31f-9bf0-458a-a05c-23381667bd2b",
   "metadata": {},
   "outputs": [
    {
     "name": "stdout",
     "output_type": "stream",
     "text": [
      "when input is [24] the target: 43\n",
      "when input is [24, 43] the target: 58\n",
      "when input is [24, 43, 58] the target: 5\n",
      "when input is [24, 43, 58, 5] the target: 57\n",
      "when input is [24, 43, 58, 5, 57] the target: 1\n",
      "when input is [24, 43, 58, 5, 57, 1] the target: 46\n",
      "when input is [24, 43, 58, 5, 57, 1, 46] the target: 43\n",
      "when input is [24, 43, 58, 5, 57, 1, 46, 43] the target: 39\n",
      "when input is [44] the target: 53\n",
      "when input is [44, 53] the target: 56\n",
      "when input is [44, 53, 56] the target: 1\n",
      "when input is [44, 53, 56, 1] the target: 58\n",
      "when input is [44, 53, 56, 1, 58] the target: 46\n",
      "when input is [44, 53, 56, 1, 58, 46] the target: 39\n",
      "when input is [44, 53, 56, 1, 58, 46, 39] the target: 58\n",
      "when input is [44, 53, 56, 1, 58, 46, 39, 58] the target: 1\n",
      "when input is [52] the target: 58\n",
      "when input is [52, 58] the target: 1\n",
      "when input is [52, 58, 1] the target: 58\n",
      "when input is [52, 58, 1, 58] the target: 46\n",
      "when input is [52, 58, 1, 58, 46] the target: 39\n",
      "when input is [52, 58, 1, 58, 46, 39] the target: 58\n",
      "when input is [52, 58, 1, 58, 46, 39, 58] the target: 1\n",
      "when input is [52, 58, 1, 58, 46, 39, 58, 1] the target: 46\n",
      "when input is [25] the target: 17\n",
      "when input is [25, 17] the target: 27\n",
      "when input is [25, 17, 27] the target: 10\n",
      "when input is [25, 17, 27, 10] the target: 0\n",
      "when input is [25, 17, 27, 10, 0] the target: 21\n",
      "when input is [25, 17, 27, 10, 0, 21] the target: 1\n",
      "when input is [25, 17, 27, 10, 0, 21, 1] the target: 54\n",
      "when input is [25, 17, 27, 10, 0, 21, 1, 54] the target: 39\n"
     ]
    }
   ],
   "source": [
    "visualize_batch(4,8,xb,yb)"
   ]
  },
  {
   "cell_type": "code",
   "execution_count": 18,
   "id": "69862372-7545-46c3-8543-c3d213811be7",
   "metadata": {},
   "outputs": [],
   "source": [
    "class BigramLanguageModel(nn.Module):\n",
    "\n",
    "    def __init__(self, vocab_size):\n",
    "        super().__init__()\n",
    "        # each token directly reads off the logits for the next token from a lookup table\n",
    "        self.token_embedding_table = nn.Embedding(vocab_size, vocab_size)\n",
    "\n",
    "    def forward(self, idx, targets=None):\n",
    "\n",
    "        # idx and targets are both (B,T) tensor of integers\n",
    "        logits = self.token_embedding_table(idx) # (B,T,C)\n",
    "        \n",
    "        if targets is None:\n",
    "            loss = None\n",
    "        else:\n",
    "            B, T, C = logits.shape\n",
    "            logits = logits.view(B*T, C)\n",
    "            targets = targets.view(B*T)\n",
    "            loss = F.cross_entropy(logits, targets)\n",
    "\n",
    "        return logits, loss\n",
    "    \n",
    "    def generate(self, idx, max_new_tokens):\n",
    "        # idx is (B, T) array of indices in the current context\n",
    "        for _ in range(max_new_tokens):\n",
    "            # get the predictions\n",
    "            logits, loss = self(idx)\n",
    "            # focus only on the last time step\n",
    "            logits = logits[:, -1, :] # becomes (B, C)\n",
    "            # apply softmax to get probabilities\n",
    "            probs = F.softmax(logits, dim=-1) # (B, C)\n",
    "            # sample from the distribution\n",
    "            idx_next = torch.multinomial(probs, num_samples=1) # (B, 1)\n",
    "            # append sampled index to the running sequence\n",
    "            idx = torch.cat((idx, idx_next), dim=1) # (B, T+1)\n",
    "        return idx"
   ]
  },
  {
   "cell_type": "code",
   "execution_count": 19,
   "id": "61a66ed7-1b43-48da-a577-7869a18ac261",
   "metadata": {},
   "outputs": [
    {
     "name": "stdout",
     "output_type": "stream",
     "text": [
      "torch.Size([32, 65])\n",
      "tensor(5.0364, grad_fn=<NllLossBackward>)\n",
      "\n",
      "lfJeukRuaRJKXAYtXzfJ:HEPiu--sDioi;ILCo3pHNTmDwJsfheKRxZCFs\n",
      "lZJ XQc?:s:HEzEnXalEPklcPU cL'DpdLCafBheH\n"
     ]
    }
   ],
   "source": [
    "m = BigramLanguageModel(vocab_size)\n",
    "logits, loss = m(xb, yb)\n",
    "print(logits.shape)\n",
    "print(loss)\n",
    "\n",
    "print(decode(m.generate(idx = torch.zeros((1, 1), dtype=torch.long), max_new_tokens=100)[0].tolist()))"
   ]
  },
  {
   "cell_type": "code",
   "execution_count": 20,
   "id": "814b6044-6191-4cc6-a0d1-b7683560d542",
   "metadata": {},
   "outputs": [
    {
     "data": {
      "text/plain": [
       "4.174387269895637"
      ]
     },
     "execution_count": 20,
     "metadata": {},
     "output_type": "execute_result"
    }
   ],
   "source": [
    "# what is expected negative log likelihood loss?\n",
    "-np.log(1/65)"
   ]
  },
  {
   "cell_type": "code",
   "execution_count": 21,
   "id": "32bb26fc-1fc9-4b07-85ad-5072d8702859",
   "metadata": {},
   "outputs": [],
   "source": [
    "# create a PyTorch optimizer\n",
    "optimizer = torch.optim.AdamW(m.parameters(), lr=1e-3)"
   ]
  },
  {
   "cell_type": "code",
   "execution_count": 22,
   "id": "4f354ee0-d72c-4a17-9ed7-b818906b6f39",
   "metadata": {},
   "outputs": [],
   "source": [
    "def get_batch(split):\n",
    "        torch.manual_seed(1337)\n",
    "        batch_size = 32 # how many independent sequences will we process in parallel?\n",
    "        block_size = 8 # what is the maximum context length for predictions?\n",
    "        # generate a small batch of data of inputs x and targets y\n",
    "        data = train_data if split == 'train' else val_data\n",
    "        ix = torch.randint(len(data) - block_size, (batch_size,))\n",
    "        x = torch.stack([data[i:i+block_size] for i in ix])\n",
    "        y = torch.stack([data[i+1:i+block_size+1] for i in ix])\n",
    "        return x, y"
   ]
  },
  {
   "cell_type": "code",
   "execution_count": 23,
   "id": "8dbf2363-f826-44e8-bf9b-c7536831c03a",
   "metadata": {},
   "outputs": [
    {
     "name": "stdout",
     "output_type": "stream",
     "text": [
      "tensor([53, 58,  6,  1, 51, 63,  1, 50])\n",
      "tensor([58,  6,  1, 51, 63,  1, 50, 53])\n"
     ]
    }
   ],
   "source": [
    "x,y = get_batch('train')\n",
    "print(x[31])\n",
    "print(y[31])"
   ]
  },
  {
   "cell_type": "code",
   "execution_count": 24,
   "id": "a8f01bdc-50df-4db6-9b26-8ff165729d01",
   "metadata": {},
   "outputs": [
    {
     "name": "stdout",
     "output_type": "stream",
     "text": [
      "1.7060749530792236\n"
     ]
    }
   ],
   "source": [
    "batch_size = 32\n",
    "for steps in range(10000): # increase number of steps for good results... \n",
    "    \n",
    "    # sample a batch of data\n",
    "    xb, yb = get_batch('train')\n",
    "\n",
    "    # evaluate the loss\n",
    "    logits, loss = m(xb, yb)\n",
    "    optimizer.zero_grad(set_to_none=True)\n",
    "    loss.backward()\n",
    "    optimizer.step()\n",
    "\n",
    "print(loss.item())\n",
    "\n"
   ]
  },
  {
   "cell_type": "code",
   "execution_count": 25,
   "id": "b313dce3-0003-4ae0-8c47-10be5739aa2f",
   "metadata": {},
   "outputs": [],
   "source": [
    "def weighted_aggregation_sample():\n",
    "    # consider the following toy example:\n",
    "\n",
    "    torch.manual_seed(1337)\n",
    "    B,T,C = 4,8,2 # batch, time, channels\n",
    "    x = torch.randn(B,T,C)\n",
    "    x.shape\n",
    "    # We want x[b,t] = mean_{i<=t} x[b,i]\n",
    "    xbow = torch.zeros((B,T,C))\n",
    "    for b in range(B):\n",
    "        for t in range(T):\n",
    "            xprev = x[b,:t+1] # (t,C)\n",
    "            xbow[b,t] = torch.mean(xprev, 0)\n",
    "#     print(x[0])\n",
    "#     print(xbow[0])\n",
    "    # version 2: using matrix multiply for a weighted aggregation\n",
    "#     wei = torch.tril(torch.ones(T, T))\n",
    "#     wei = wei / wei.sum(1, keepdim=True)\n",
    "#     xbow2 = wei @ x # (B, T, T) @ (B, T, C) ----> (B, T, C)\n",
    "#     print(torch.allclose(xbow, xbow2))\n",
    "    # version 3: use Softmax\n",
    "    tril = torch.tril(torch.ones(T, T))\n",
    "    wei = torch.zeros((T,T))\n",
    "    wei = wei.masked_fill(tril == 0, float('-inf'))\n",
    "    wei = F.softmax(wei, dim=-1)\n",
    "    xbow3 = wei @ x\n",
    "    print(torch.allclose(xbow, xbow3))"
   ]
  },
  {
   "cell_type": "code",
   "execution_count": 26,
   "id": "fac2600b-cc99-4f29-bd81-c62bee67a959",
   "metadata": {},
   "outputs": [
    {
     "name": "stdout",
     "output_type": "stream",
     "text": [
      "True\n"
     ]
    }
   ],
   "source": [
    "weighted_aggregation_sample()"
   ]
  },
  {
   "cell_type": "code",
   "execution_count": 29,
   "id": "c91d7a93-ee4c-4f22-bb80-94c99be8e0e8",
   "metadata": {},
   "outputs": [],
   "source": [
    "# version 4: self-attention!\n",
    "def sample_attn():\n",
    "    torch.manual_seed(1337)\n",
    "    B,T,C = 4,8,32 # batch, time, channels\n",
    "    x = torch.randn(B,T,C)\n",
    "\n",
    "    # let's see a single Head perform self-attention\n",
    "    head_size = 16\n",
    "    key = nn.Linear(C, head_size, bias=False)\n",
    "    query = nn.Linear(C, head_size, bias=False)\n",
    "    value = nn.Linear(C, head_size, bias=False)\n",
    "    k = key(x)   # (B, T, 16)\n",
    "    q = query(x) # (B, T, 16)\n",
    "    wei =  q @ k.transpose(-2, -1) # (B, T, 16) @ (B, 16, T) ---> (B, T, T)\n",
    "\n",
    "    tril = torch.tril(torch.ones(T, T))\n",
    "    #wei = torch.zeros((T,T))\n",
    "    wei = wei.masked_fill(tril == 0, float('-inf'))\n",
    "    wei = F.softmax(wei, dim=-1)\n",
    "\n",
    "    v = value(x)\n",
    "    out = wei @ v\n",
    "    #out = wei @ x\n",
    "\n",
    "    print(out.shape)"
   ]
  },
  {
   "cell_type": "code",
   "execution_count": 30,
   "id": "ba5e5613-9122-476e-aebc-463cef259c5a",
   "metadata": {},
   "outputs": [
    {
     "name": "stdout",
     "output_type": "stream",
     "text": [
      "torch.Size([4, 8, 16])\n"
     ]
    }
   ],
   "source": [
    "sample_attn()"
   ]
  },
  {
   "cell_type": "markdown",
   "id": "72ac13dd-6af7-42a1-bc14-46c4d7681de1",
   "metadata": {},
   "source": [
    "Notes:\n",
    "- Attention is a **communication mechanism**. Can be seen as nodes in a directed graph looking at each other and aggregating information with a weighted sum from all nodes that point to them, with data-dependent weights.\n",
    "- There is no notion of space. Attention simply acts over a set of vectors. This is why we need to positionally encode tokens.\n",
    "- Each example across batch dimension is of course processed completely independently and never \"talk\" to each other\n",
    "- In an \"encoder\" attention block just delete the single line that does masking with `tril`, allowing all tokens to communicate. This block here is called a \"decoder\" attention block because it has triangular masking, and is usually used in autoregressive settings, like language modeling.\n",
    "- \"self-attention\" just means that the keys and values are produced from the same source as queries. In \"cross-attention\", the queries still get produced from x, but the keys and values come from some other, external source (e.g. an encoder module)\n",
    "- \"Scaled\" attention additional divides `wei` by 1/sqrt(head_size). This makes it so when input Q,K are unit variance, wei will be unit variance too and Softmax will stay diffuse and not saturate too much. Illustration below"
   ]
  },
  {
   "cell_type": "code",
   "execution_count": 36,
   "id": "201e1f41-401f-40b5-9d21-2cdc00e16913",
   "metadata": {},
   "outputs": [],
   "source": [
    "def visualize_init():\n",
    "    '''the sqrt of key dimensions is done to control variance of the attention o/p and making it unit variance. \n",
    "    This is  cause softmax get peaky with when there is a large range of values and the o/p becomes more one-hot ish '''\n",
    "    torch.manual_seed(1337)\n",
    "    head_size = 16\n",
    "    B,T,C = 4,8,32 # batch, time, channels\n",
    "    k = torch.randn(B,T,head_size)\n",
    "    q = torch.randn(B,T,head_size)\n",
    "    wei = q @ k.transpose(-2, -1) * head_size**-0.5\n",
    "    print(k.var())\n",
    "    print(q.var())\n",
    "    print(wei.var())\n",
    "    print(torch.softmax(torch.tensor([0.1, -0.2, 0.3, -0.2, 0.5]), dim=-1))\n",
    "    print(\"O/p will be more one-hot ish\")\n",
    "    print(torch.softmax(torch.tensor([0.1, -0.2, 0.3, -0.2, 0.5])*8, dim=-1)) # gets too peaky, converges to one-hot"
   ]
  },
  {
   "cell_type": "code",
   "execution_count": 37,
   "id": "4d630cfc-2b1d-40f7-a74e-aadf21c7ed22",
   "metadata": {},
   "outputs": [
    {
     "name": "stdout",
     "output_type": "stream",
     "text": [
      "tensor(1.0877)\n",
      "tensor(1.0594)\n",
      "tensor(1.1527)\n",
      "tensor([0.1925, 0.1426, 0.2351, 0.1426, 0.2872])\n",
      "O/p will be more one-hot ish\n",
      "tensor([0.0326, 0.0030, 0.1615, 0.0030, 0.8000])\n"
     ]
    }
   ],
   "source": [
    "visualize_init()"
   ]
  },
  {
   "cell_type": "code",
   "execution_count": 38,
   "id": "792cac1a-1543-49ba-ac5b-c52b7ccf0d84",
   "metadata": {},
   "outputs": [
    {
     "data": {
      "text/plain": [
       "torch.Size([32, 100])"
      ]
     },
     "execution_count": 38,
     "metadata": {},
     "output_type": "execute_result"
    }
   ],
   "source": [
    "class LayerNorm1d: # (used to be BatchNorm1d)\n",
    "  \n",
    "  def __init__(self, dim, eps=1e-5, momentum=0.1):\n",
    "    self.eps = eps\n",
    "    self.gamma = torch.ones(dim)\n",
    "    self.beta = torch.zeros(dim)\n",
    "  \n",
    "  def __call__(self, x):\n",
    "    # calculate the forward pass\n",
    "    xmean = x.mean(1, keepdim=True) # batch mean\n",
    "    xvar = x.var(1, keepdim=True) # batch variance\n",
    "    xhat = (x - xmean) / torch.sqrt(xvar + self.eps) # normalize to unit variance\n",
    "    self.out = self.gamma * xhat + self.beta\n",
    "    return self.out\n",
    "  \n",
    "  def parameters(self):\n",
    "    return [self.gamma, self.beta]\n",
    "\n",
    "torch.manual_seed(1337)\n",
    "module = LayerNorm1d(100)\n",
    "x = torch.randn(32, 100) # batch size 32 of 100-dimensional vectors\n",
    "x = module(x)\n",
    "x.shape"
   ]
  },
  {
   "cell_type": "code",
   "execution_count": null,
   "id": "bef8accf-1f8b-4704-8857-f99cffc3b169",
   "metadata": {},
   "outputs": [],
   "source": []
  }
 ],
 "metadata": {
  "kernelspec": {
   "display_name": "ath_pytorch",
   "language": "python",
   "name": "ath_pytorch"
  },
  "language_info": {
   "codemirror_mode": {
    "name": "ipython",
    "version": 3
   },
   "file_extension": ".py",
   "mimetype": "text/x-python",
   "name": "python",
   "nbconvert_exporter": "python",
   "pygments_lexer": "ipython3",
   "version": "3.7.10"
  }
 },
 "nbformat": 4,
 "nbformat_minor": 5
}
